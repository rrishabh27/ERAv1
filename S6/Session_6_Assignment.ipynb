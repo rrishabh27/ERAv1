{
  "nbformat": 4,
  "nbformat_minor": 0,
  "metadata": {
    "colab": {
      "provenance": []
    },
    "kernelspec": {
      "name": "python3",
      "display_name": "Python 3"
    },
    "accelerator": "GPU"
  },
  "cells": [
    {
      "cell_type": "code",
      "metadata": {
        "id": "4t-K_FtUGPbZ"
      },
      "source": [
        "from __future__ import print_function\n",
        "import torch\n",
        "import torch.nn as nn\n",
        "import torch.nn.functional as F\n",
        "import torch.optim as optim\n",
        "from torchvision import datasets, transforms\n",
        "import matplotlib.pyplot as plt"
      ],
      "execution_count": null,
      "outputs": []
    },
    {
      "cell_type": "markdown",
      "metadata": {
        "id": "tHYEfwPVQD4c"
      },
      "source": [
        "## Model"
      ]
    },
    {
      "cell_type": "code",
      "metadata": {
        "id": "TQXwI_AyGk7_"
      },
      "source": [
        "class Net(nn.Module):\n",
        "    def __init__(self):\n",
        "        super(Net, self).__init__()\n",
        "\n",
        "        self.conv1 = nn.Sequential(\n",
        "            nn.Conv2d(in_channels=1, out_channels=16, kernel_size=3, padding=1), # receptive field = 3\n",
        "            nn.BatchNorm2d(16),\n",
        "            nn.Dropout(0.10),\n",
        "            nn.ReLU()\n",
        "        )\n",
        "\n",
        "        self.conv2 = nn.Sequential(\n",
        "            nn.Conv2d(in_channels=16, out_channels=32, kernel_size=3, padding=1), # rf = 5\n",
        "            nn.BatchNorm2d(32),\n",
        "            nn.Dropout(0.10),\n",
        "            nn.ReLU()\n",
        "        )\n",
        "\n",
        "        # transition block 1\n",
        "        self.conv_1_1 = nn.Sequential(\n",
        "            nn.MaxPool2d(2, 2), # rf = 10\n",
        "            nn.Conv2d(in_channels=32, out_channels=16, kernel_size=1), \n",
        "            nn.BatchNorm2d(16),\n",
        "            nn.Dropout(0.10),\n",
        "            nn.ReLU()\n",
        "        )\n",
        "        # end\n",
        "\n",
        "        self.conv3 = nn.Sequential(\n",
        "            nn.Conv2d(in_channels=16, out_channels=16, kernel_size=3, padding=1), # rf = 12\n",
        "            nn.BatchNorm2d(16),\n",
        "            nn.Dropout(0.10),\n",
        "            nn.ReLU()\n",
        "        )\n",
        "\n",
        "        self.conv4 = nn.Sequential(\n",
        "            nn.Conv2d(in_channels=16, out_channels=16, kernel_size=3, padding=1), # rf = 14\n",
        "            nn.BatchNorm2d(16),\n",
        "            nn.Dropout(0.10),\n",
        "            nn.ReLU()\n",
        "        )\n",
        "\n",
        "        # transition block 2\n",
        "        self.conv_1_2 = nn.Sequential(\n",
        "            nn.MaxPool2d(2, 2), # rf = 28\n",
        "            nn.Conv2d(in_channels=16, out_channels=8, kernel_size=1), \n",
        "            nn.BatchNorm2d(8),\n",
        "            nn.Dropout(0.10),\n",
        "            nn.ReLU()\n",
        "        )\n",
        "        # end\n",
        "\n",
        "        self.conv5 = nn.Sequential(\n",
        "            nn.Conv2d(in_channels=8, out_channels=16, kernel_size=3), # rf = 30\n",
        "            nn.BatchNorm2d(16),\n",
        "            nn.Dropout(0.10),\n",
        "            nn.ReLU()\n",
        "        )\n",
        "\n",
        "        self.conv6 = nn.Sequential(\n",
        "            nn.Conv2d(in_channels=16, out_channels=32, kernel_size=3), # rf = 32\n",
        "            nn.ReLU()\n",
        "        )\n",
        "\n",
        "        # final layer\n",
        "        self.conv7 = nn.Sequential(\n",
        "            nn.Conv2d(in_channels=32, out_channels=10, kernel_size=3), # rf = 34\n",
        "        )\n",
        "    \n",
        "    def forward(self, x):\n",
        "            x = self.conv1(x)\n",
        "            x = self.conv2(x)\n",
        "            x = self.conv_1_1(x)\n",
        "            x = self.conv3(x)\n",
        "            x = self.conv4(x)\n",
        "            x = self.conv_1_2(x)\n",
        "            x = self.conv5(x)\n",
        "            x = self.conv6(x)\n",
        "            x = self.conv7(x)\n",
        "\n",
        "            x = x.view(-1, 10)\n",
        "            return F.log_softmax(x)\n"
      ],
      "execution_count": null,
      "outputs": []
    },
    {
      "cell_type": "markdown",
      "metadata": {
        "id": "aMjIcAysQLUy"
      },
      "source": [
        "## Model Summary"
      ]
    },
    {
      "cell_type": "code",
      "metadata": {
        "id": "zbmkiPeeLSEY",
        "colab": {
          "base_uri": "https://localhost:8080/",
          "height": 870
        },
        "outputId": "39575137-7980-4250-c79f-53d650725366"
      },
      "source": [
        "!pip install torchsummary\n",
        "from torchsummary import summary\n",
        "use_cuda = torch.cuda.is_available()\n",
        "device = torch.device(\"cuda\" if use_cuda else \"cpu\")\n",
        "model = Net().to(device)\n",
        "summary(model, input_size=(1, 28, 28))"
      ],
      "execution_count": null,
      "outputs": [
        {
          "output_type": "stream",
          "text": [
            "Requirement already satisfied: torchsummary in /usr/local/lib/python3.6/dist-packages (1.5.1)\n",
            "----------------------------------------------------------------\n",
            "        Layer (type)               Output Shape         Param #\n",
            "================================================================\n",
            "            Conv2d-1           [-1, 16, 28, 28]             160\n",
            "       BatchNorm2d-2           [-1, 16, 28, 28]              32\n",
            "           Dropout-3           [-1, 16, 28, 28]               0\n",
            "              ReLU-4           [-1, 16, 28, 28]               0\n",
            "            Conv2d-5           [-1, 32, 28, 28]           4,640\n",
            "       BatchNorm2d-6           [-1, 32, 28, 28]              64\n",
            "           Dropout-7           [-1, 32, 28, 28]               0\n",
            "              ReLU-8           [-1, 32, 28, 28]               0\n",
            "         MaxPool2d-9           [-1, 32, 14, 14]               0\n",
            "           Conv2d-10           [-1, 16, 14, 14]             528\n",
            "      BatchNorm2d-11           [-1, 16, 14, 14]              32\n",
            "          Dropout-12           [-1, 16, 14, 14]               0\n",
            "             ReLU-13           [-1, 16, 14, 14]               0\n",
            "           Conv2d-14           [-1, 16, 14, 14]           2,320\n",
            "      BatchNorm2d-15           [-1, 16, 14, 14]              32\n",
            "          Dropout-16           [-1, 16, 14, 14]               0\n",
            "             ReLU-17           [-1, 16, 14, 14]               0\n",
            "           Conv2d-18           [-1, 16, 14, 14]           2,320\n",
            "      BatchNorm2d-19           [-1, 16, 14, 14]              32\n",
            "          Dropout-20           [-1, 16, 14, 14]               0\n",
            "             ReLU-21           [-1, 16, 14, 14]               0\n",
            "        MaxPool2d-22             [-1, 16, 7, 7]               0\n",
            "           Conv2d-23              [-1, 8, 7, 7]             136\n",
            "      BatchNorm2d-24              [-1, 8, 7, 7]              16\n",
            "          Dropout-25              [-1, 8, 7, 7]               0\n",
            "             ReLU-26              [-1, 8, 7, 7]               0\n",
            "           Conv2d-27             [-1, 16, 5, 5]           1,168\n",
            "      BatchNorm2d-28             [-1, 16, 5, 5]              32\n",
            "          Dropout-29             [-1, 16, 5, 5]               0\n",
            "             ReLU-30             [-1, 16, 5, 5]               0\n",
            "           Conv2d-31             [-1, 32, 3, 3]           4,640\n",
            "             ReLU-32             [-1, 32, 3, 3]               0\n",
            "           Conv2d-33             [-1, 10, 1, 1]           2,890\n",
            "================================================================\n",
            "Total params: 19,042\n",
            "Trainable params: 19,042\n",
            "Non-trainable params: 0\n",
            "----------------------------------------------------------------\n",
            "Input size (MB): 0.00\n",
            "Forward/backward pass size (MB): 1.52\n",
            "Params size (MB): 0.07\n",
            "Estimated Total Size (MB): 1.59\n",
            "----------------------------------------------------------------\n"
          ],
          "name": "stdout"
        },
        {
          "output_type": "stream",
          "text": [
            "/usr/local/lib/python3.6/dist-packages/ipykernel_launcher.py:82: UserWarning: Implicit dimension choice for log_softmax has been deprecated. Change the call to include dim=X as an argument.\n"
          ],
          "name": "stderr"
        }
      ]
    },
    {
      "cell_type": "code",
      "metadata": {
        "id": "fF41AbZn5mHK",
        "colab": {
          "base_uri": "https://localhost:8080/",
          "height": 36
        },
        "outputId": "920a076c-5ac6-4316-a73e-45fab80ccabf"
      },
      "source": [
        "torch.cuda.get_device_name(0)"
      ],
      "execution_count": null,
      "outputs": [
        {
          "output_type": "execute_result",
          "data": {
            "application/vnd.google.colaboratory.intrinsic+json": {
              "type": "string"
            },
            "text/plain": [
              "'Tesla K80'"
            ]
          },
          "metadata": {
            "tags": []
          },
          "execution_count": 86
        }
      ]
    },
    {
      "cell_type": "markdown",
      "metadata": {
        "id": "NVjbF2rpQlLg"
      },
      "source": [
        "## Data loading and transformations"
      ]
    },
    {
      "cell_type": "code",
      "metadata": {
        "id": "UCgIcFMBQRW9"
      },
      "source": [
        "torch.manual_seed(1) # for consistent output\n",
        "batch_size = 64\n",
        "\n",
        "kwargs = {'num_workers': 1, 'pin_memory': True} if use_cuda else {}\n",
        "\n",
        "# train data\n",
        "train_loader = torch.utils.data.DataLoader(\n",
        "    datasets.MNIST('../data', train=True, download=True,\n",
        "                    transform=transforms.Compose([\n",
        "                        transforms.ToTensor(),\n",
        "                        transforms.Normalize((0.1307,), (0.3081,)) # mean, std of the data\n",
        "                    ])),\n",
        "    batch_size=batch_size, shuffle=True, **kwargs)\n",
        "\n",
        "# test data\n",
        "test_loader = torch.utils.data.DataLoader(\n",
        "    datasets.MNIST('../data', train=False, transform=transforms.Compose([\n",
        "                        transforms.ToTensor(),\n",
        "                        transforms.Normalize((0.1307,), (0.3081,))\n",
        "                    ])),\n",
        "    batch_size=batch_size, shuffle=True, **kwargs)\n"
      ],
      "execution_count": null,
      "outputs": []
    },
    {
      "cell_type": "markdown",
      "metadata": {
        "id": "wCoLPDrOQxIJ"
      },
      "source": [
        "## Train and Test functions"
      ]
    },
    {
      "cell_type": "code",
      "metadata": {
        "id": "GZ9eI89xQz3v"
      },
      "source": [
        "from tqdm import tqdm\n",
        "\n",
        "train_losses = []\n",
        "test_losses = []\n",
        "train_acc = []\n",
        "test_acc = []\n",
        "\n",
        "def train(model, device, train_loader, optimizer, epoch):\n",
        "  model.train()\n",
        "  pbar = tqdm(train_loader)\n",
        "  correct = 0\n",
        "  processed = 0\n",
        "  for batch_idx, (data, target) in enumerate(pbar):\n",
        "    data, target = data.to(device), target.to(device)\n",
        "    optimizer.zero_grad() # setting the gradients to zero after every backprop step\n",
        "    y_pred = model(data) # predicting the values\n",
        "    loss = F.nll_loss(y_pred, target) # calculating the loss using negative loss likelihood\n",
        "    train_losses.append(loss)\n",
        "    loss.backward() # backpropagation\n",
        "    optimizer.step()\n",
        "    pred = y_pred.argmax(dim=1, keepdim=True) # get the index of the max log-probability\n",
        "    correct += pred.eq(target.view_as(pred)).sum().item()\n",
        "    processed += len(data)\n",
        "\n",
        "    pbar.set_description(desc= f'Loss={loss.item()} Batch_id={batch_idx} Accuracy={100. * correct / processed:0.2f}')\n",
        "    train_acc.append(100. * correct / processed)\n",
        "\n",
        "def test(model, device, test_loader):\n",
        "    model.eval()\n",
        "    test_loss = 0\n",
        "    correct = 0\n",
        "    with torch.no_grad(): # since we do not want to compute gradients on the test data, we use torch.no_grad()\n",
        "        for data, target in test_loader:\n",
        "            data, target = data.to(device), target.to(device)\n",
        "            output = model(data)\n",
        "            test_loss += F.nll_loss(output, target, reduction='sum').item()  # sum up batch loss\n",
        "            pred = output.argmax(dim=1, keepdim=True)  # get the index of the max log-probability\n",
        "            correct += pred.eq(target.view_as(pred)).sum().item()\n",
        "\n",
        "    test_loss /= len(test_loader.dataset)\n",
        "    test_losses.append(test_loss)\n",
        "\n",
        "    print('\\nTest set: Average loss: {:.4f}, Accuracy: {}/{} ({:.2f}%)\\n'.format(\n",
        "        test_loss, correct, len(test_loader.dataset),\n",
        "        100. * correct / len(test_loader.dataset)))\n",
        "    \n",
        "    test_acc.append(100. * correct / len(test_loader.dataset))"
      ],
      "execution_count": null,
      "outputs": []
    },
    {
      "cell_type": "markdown",
      "metadata": {
        "id": "-Hohh7T2RHnt"
      },
      "source": [
        "## Training and Testing"
      ]
    },
    {
      "cell_type": "code",
      "metadata": {
        "id": "34OS2zPvQ0ry",
        "colab": {
          "base_uri": "https://localhost:8080/",
          "height": 1000
        },
        "outputId": "868b2438-8fa6-4ffa-cf1a-ca4e45169694"
      },
      "source": [
        "model = Net().to(device)\n",
        "optimizer = optim.SGD(model.parameters(), lr=0.01, momentum=0.9)\n",
        "\n",
        "for epoch in range(1, 20):\n",
        "    print('Epoch:',  epoch)\n",
        "    train(model, device, train_loader, optimizer, epoch)\n",
        "    test(model, device, test_loader)"
      ],
      "execution_count": null,
      "outputs": [
        {
          "output_type": "stream",
          "text": [
            "\r  0%|          | 0/938 [00:00<?, ?it/s]"
          ],
          "name": "stderr"
        },
        {
          "output_type": "stream",
          "text": [
            "Epoch: 1\n"
          ],
          "name": "stdout"
        },
        {
          "output_type": "stream",
          "text": [
            "/usr/local/lib/python3.6/dist-packages/ipykernel_launcher.py:82: UserWarning: Implicit dimension choice for log_softmax has been deprecated. Change the call to include dim=X as an argument.\n",
            "Loss=0.011405476368963718 Batch_id=937 Accuracy=92.56: 100%|██████████| 938/938 [00:31<00:00, 29.54it/s]\n",
            "  0%|          | 0/938 [00:00<?, ?it/s]"
          ],
          "name": "stderr"
        },
        {
          "output_type": "stream",
          "text": [
            "\n",
            "Test set: Average loss: 0.0975, Accuracy: 9684/10000 (96.84%)\n",
            "\n",
            "Epoch: 2\n"
          ],
          "name": "stdout"
        },
        {
          "output_type": "stream",
          "text": [
            "Loss=0.01796569675207138 Batch_id=937 Accuracy=97.70: 100%|██████████| 938/938 [00:32<00:00, 28.93it/s]\n",
            "  0%|          | 0/938 [00:00<?, ?it/s]"
          ],
          "name": "stderr"
        },
        {
          "output_type": "stream",
          "text": [
            "\n",
            "Test set: Average loss: 0.0439, Accuracy: 9862/10000 (98.62%)\n",
            "\n",
            "Epoch: 3\n"
          ],
          "name": "stdout"
        },
        {
          "output_type": "stream",
          "text": [
            "Loss=0.07513894140720367 Batch_id=937 Accuracy=98.07: 100%|██████████| 938/938 [00:32<00:00, 29.21it/s]\n",
            "  0%|          | 0/938 [00:00<?, ?it/s]"
          ],
          "name": "stderr"
        },
        {
          "output_type": "stream",
          "text": [
            "\n",
            "Test set: Average loss: 0.0430, Accuracy: 9866/10000 (98.66%)\n",
            "\n",
            "Epoch: 4\n"
          ],
          "name": "stdout"
        },
        {
          "output_type": "stream",
          "text": [
            "Loss=0.07031643390655518 Batch_id=937 Accuracy=98.32: 100%|██████████| 938/938 [00:32<00:00, 28.87it/s]\n",
            "  0%|          | 0/938 [00:00<?, ?it/s]"
          ],
          "name": "stderr"
        },
        {
          "output_type": "stream",
          "text": [
            "\n",
            "Test set: Average loss: 0.0553, Accuracy: 9838/10000 (98.38%)\n",
            "\n",
            "Epoch: 5\n"
          ],
          "name": "stdout"
        },
        {
          "output_type": "stream",
          "text": [
            "Loss=0.015664847567677498 Batch_id=937 Accuracy=98.55: 100%|██████████| 938/938 [00:32<00:00, 28.68it/s]\n",
            "  0%|          | 0/938 [00:00<?, ?it/s]"
          ],
          "name": "stderr"
        },
        {
          "output_type": "stream",
          "text": [
            "\n",
            "Test set: Average loss: 0.0278, Accuracy: 9916/10000 (99.16%)\n",
            "\n",
            "Epoch: 6\n"
          ],
          "name": "stdout"
        },
        {
          "output_type": "stream",
          "text": [
            "Loss=0.13672569394111633 Batch_id=937 Accuracy=98.64: 100%|██████████| 938/938 [00:32<00:00, 28.77it/s]\n",
            "  0%|          | 0/938 [00:00<?, ?it/s]"
          ],
          "name": "stderr"
        },
        {
          "output_type": "stream",
          "text": [
            "\n",
            "Test set: Average loss: 0.0280, Accuracy: 9917/10000 (99.17%)\n",
            "\n",
            "Epoch: 7\n"
          ],
          "name": "stdout"
        },
        {
          "output_type": "stream",
          "text": [
            "Loss=0.07449933886528015 Batch_id=937 Accuracy=98.75: 100%|██████████| 938/938 [00:32<00:00, 28.83it/s]\n",
            "  0%|          | 0/938 [00:00<?, ?it/s]"
          ],
          "name": "stderr"
        },
        {
          "output_type": "stream",
          "text": [
            "\n",
            "Test set: Average loss: 0.0239, Accuracy: 9922/10000 (99.22%)\n",
            "\n",
            "Epoch: 8\n"
          ],
          "name": "stdout"
        },
        {
          "output_type": "stream",
          "text": [
            "Loss=0.005990088451653719 Batch_id=937 Accuracy=98.89: 100%|██████████| 938/938 [00:32<00:00, 28.86it/s]\n",
            "  0%|          | 0/938 [00:00<?, ?it/s]"
          ],
          "name": "stderr"
        },
        {
          "output_type": "stream",
          "text": [
            "\n",
            "Test set: Average loss: 0.0236, Accuracy: 9920/10000 (99.20%)\n",
            "\n",
            "Epoch: 9\n"
          ],
          "name": "stdout"
        },
        {
          "output_type": "stream",
          "text": [
            "Loss=0.03348889574408531 Batch_id=937 Accuracy=98.92: 100%|██████████| 938/938 [00:32<00:00, 29.20it/s]\n",
            "  0%|          | 0/938 [00:00<?, ?it/s]"
          ],
          "name": "stderr"
        },
        {
          "output_type": "stream",
          "text": [
            "\n",
            "Test set: Average loss: 0.0228, Accuracy: 9923/10000 (99.23%)\n",
            "\n",
            "Epoch: 10\n"
          ],
          "name": "stdout"
        },
        {
          "output_type": "stream",
          "text": [
            "Loss=0.004718997050076723 Batch_id=937 Accuracy=98.97: 100%|██████████| 938/938 [00:32<00:00, 29.08it/s]\n",
            "  0%|          | 0/938 [00:00<?, ?it/s]"
          ],
          "name": "stderr"
        },
        {
          "output_type": "stream",
          "text": [
            "\n",
            "Test set: Average loss: 0.0252, Accuracy: 9915/10000 (99.15%)\n",
            "\n",
            "Epoch: 11\n"
          ],
          "name": "stdout"
        },
        {
          "output_type": "stream",
          "text": [
            "Loss=0.0038732991088181734 Batch_id=937 Accuracy=98.99: 100%|██████████| 938/938 [00:31<00:00, 29.36it/s]\n",
            "  0%|          | 0/938 [00:00<?, ?it/s]"
          ],
          "name": "stderr"
        },
        {
          "output_type": "stream",
          "text": [
            "\n",
            "Test set: Average loss: 0.0277, Accuracy: 9918/10000 (99.18%)\n",
            "\n",
            "Epoch: 12\n"
          ],
          "name": "stdout"
        },
        {
          "output_type": "stream",
          "text": [
            "Loss=0.09020570665597916 Batch_id=937 Accuracy=98.98: 100%|██████████| 938/938 [00:32<00:00, 29.14it/s]\n",
            "  0%|          | 0/938 [00:00<?, ?it/s]"
          ],
          "name": "stderr"
        },
        {
          "output_type": "stream",
          "text": [
            "\n",
            "Test set: Average loss: 0.0212, Accuracy: 9937/10000 (99.37%)\n",
            "\n",
            "Epoch: 13\n"
          ],
          "name": "stdout"
        },
        {
          "output_type": "stream",
          "text": [
            "Loss=0.03594782575964928 Batch_id=937 Accuracy=99.01: 100%|██████████| 938/938 [00:32<00:00, 28.75it/s]\n",
            "  0%|          | 0/938 [00:00<?, ?it/s]"
          ],
          "name": "stderr"
        },
        {
          "output_type": "stream",
          "text": [
            "\n",
            "Test set: Average loss: 0.0185, Accuracy: 9942/10000 (99.42%)\n",
            "\n",
            "Epoch: 14\n"
          ],
          "name": "stdout"
        },
        {
          "output_type": "stream",
          "text": [
            "Loss=0.03013654239475727 Batch_id=937 Accuracy=99.07: 100%|██████████| 938/938 [00:32<00:00, 28.83it/s]\n",
            "  0%|          | 0/938 [00:00<?, ?it/s]"
          ],
          "name": "stderr"
        },
        {
          "output_type": "stream",
          "text": [
            "\n",
            "Test set: Average loss: 0.0232, Accuracy: 9929/10000 (99.29%)\n",
            "\n",
            "Epoch: 15\n"
          ],
          "name": "stdout"
        },
        {
          "output_type": "stream",
          "text": [
            "Loss=0.02149870991706848 Batch_id=937 Accuracy=99.13: 100%|██████████| 938/938 [00:32<00:00, 29.17it/s]\n",
            "  0%|          | 0/938 [00:00<?, ?it/s]"
          ],
          "name": "stderr"
        },
        {
          "output_type": "stream",
          "text": [
            "\n",
            "Test set: Average loss: 0.0174, Accuracy: 9942/10000 (99.42%)\n",
            "\n",
            "Epoch: 16\n"
          ],
          "name": "stdout"
        },
        {
          "output_type": "stream",
          "text": [
            "Loss=0.0025972253642976284 Batch_id=937 Accuracy=99.12: 100%|██████████| 938/938 [00:31<00:00, 29.41it/s]\n",
            "  0%|          | 0/938 [00:00<?, ?it/s]"
          ],
          "name": "stderr"
        },
        {
          "output_type": "stream",
          "text": [
            "\n",
            "Test set: Average loss: 0.0188, Accuracy: 9939/10000 (99.39%)\n",
            "\n",
            "Epoch: 17\n"
          ],
          "name": "stdout"
        },
        {
          "output_type": "stream",
          "text": [
            "Loss=0.1456896960735321 Batch_id=937 Accuracy=99.20: 100%|██████████| 938/938 [00:32<00:00, 29.13it/s]\n",
            "  0%|          | 0/938 [00:00<?, ?it/s]"
          ],
          "name": "stderr"
        },
        {
          "output_type": "stream",
          "text": [
            "\n",
            "Test set: Average loss: 0.0189, Accuracy: 9932/10000 (99.32%)\n",
            "\n",
            "Epoch: 18\n"
          ],
          "name": "stdout"
        },
        {
          "output_type": "stream",
          "text": [
            "Loss=0.002306105801835656 Batch_id=937 Accuracy=99.17: 100%|██████████| 938/938 [00:31<00:00, 29.54it/s]\n",
            "  0%|          | 0/938 [00:00<?, ?it/s]"
          ],
          "name": "stderr"
        },
        {
          "output_type": "stream",
          "text": [
            "\n",
            "Test set: Average loss: 0.0181, Accuracy: 9942/10000 (99.42%)\n",
            "\n",
            "Epoch: 19\n"
          ],
          "name": "stdout"
        },
        {
          "output_type": "stream",
          "text": [
            "Loss=0.2770474851131439 Batch_id=937 Accuracy=99.21: 100%|██████████| 938/938 [00:32<00:00, 28.83it/s]\n"
          ],
          "name": "stderr"
        },
        {
          "output_type": "stream",
          "text": [
            "\n",
            "Test set: Average loss: 0.0180, Accuracy: 9936/10000 (99.36%)\n",
            "\n"
          ],
          "name": "stdout"
        }
      ]
    },
    {
      "cell_type": "markdown",
      "metadata": {
        "id": "xHseZeprC6WY"
      },
      "source": [
        " # **BEST TEST ACCURACY = 99.42% IN 13TH EPOCH**\n",
        "\n",
        " # **BEST TRAIN ACCURACY = 99.21%**\n",
        "\n",
        " ## **NUMBER OF PARAMETERS = 19,042**"
      ]
    },
    {
      "cell_type": "markdown",
      "metadata": {
        "id": "u_fW_VzMRVub"
      },
      "source": [
        "## Plotting"
      ]
    },
    {
      "cell_type": "code",
      "metadata": {
        "id": "23bV7eF-RLJk",
        "colab": {
          "base_uri": "https://localhost:8080/",
          "height": 625
        },
        "outputId": "0b20e0d8-7433-4507-95bc-a8505626eaa0"
      },
      "source": [
        "%matplotlib inline\n",
        "import matplotlib.pyplot as plt\n",
        "fig, axs = plt.subplots(2,2,figsize=(15,10))\n",
        "axs[0, 0].plot(train_losses)\n",
        "axs[0, 0].set_title(\"Training Loss\")\n",
        "axs[1, 0].plot(train_acc)\n",
        "axs[1, 0].set_title(\"Training Accuracy\")\n",
        "axs[0, 1].plot(test_losses)\n",
        "axs[0, 1].set_title(\"Test Loss\")\n",
        "axs[1, 1].plot(test_acc)\n",
        "axs[1, 1].set_title(\"Test Accuracy\")"
      ],
      "execution_count": null,
      "outputs": [
        {
          "output_type": "execute_result",
          "data": {
            "text/plain": [
              "Text(0.5, 1.0, 'Test Accuracy')"
            ]
          },
          "metadata": {
            "tags": []
          },
          "execution_count": 90
        },
        {
          "output_type": "display_data",
          "data": {
            "image/png": "[encoded data removed]",
            "text/plain": [
              "<Figure size 1080x720 with 4 Axes>"
            ]
          },
          "metadata": {
            "tags": [],
            "needs_background": "light"
          }
        }
      ]
    }
  ]
}